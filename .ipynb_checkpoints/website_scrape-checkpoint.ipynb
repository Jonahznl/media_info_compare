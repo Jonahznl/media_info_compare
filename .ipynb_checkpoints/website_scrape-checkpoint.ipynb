{
 "cells": [
  {
   "cell_type": "code",
   "execution_count": 1,
   "id": "bcb83848",
   "metadata": {},
   "outputs": [],
   "source": [
    "from selenium import webdriver\n",
    "from selenium.webdriver.chrome.options import Options\n",
    "from selenium.common.exceptions import NoSuchElementException\n",
    "from selenium.webdriver.common.by import By\n",
    "\n",
    "from bs4 import BeautifulSoup\n",
    "\n",
    "import time\n",
    "\n",
    "from datetime import datetime\n",
    "from dateutil import parser\n",
    "\n",
    "import pandas as pd"
   ]
  },
  {
   "cell_type": "markdown",
   "id": "8a713052",
   "metadata": {},
   "source": [
    "## NBCNews"
   ]
  },
  {
   "cell_type": "code",
   "execution_count": null,
   "id": "12a70848",
   "metadata": {},
   "outputs": [],
   "source": []
  },
  {
   "cell_type": "code",
   "execution_count": null,
   "id": "21edcde3",
   "metadata": {},
   "outputs": [],
   "source": []
  },
  {
   "cell_type": "code",
   "execution_count": null,
   "id": "ef877373",
   "metadata": {},
   "outputs": [],
   "source": []
  },
  {
   "cell_type": "markdown",
   "id": "7f915026",
   "metadata": {},
   "source": [
    "## CNN"
   ]
  },
  {
   "cell_type": "code",
   "execution_count": null,
   "id": "f184e035",
   "metadata": {},
   "outputs": [],
   "source": []
  },
  {
   "cell_type": "code",
   "execution_count": null,
   "id": "d6e6e787",
   "metadata": {},
   "outputs": [],
   "source": []
  },
  {
   "cell_type": "code",
   "execution_count": null,
   "id": "8882d63f",
   "metadata": {},
   "outputs": [],
   "source": []
  },
  {
   "cell_type": "code",
   "execution_count": null,
   "id": "d4ffc730",
   "metadata": {},
   "outputs": [],
   "source": []
  },
  {
   "cell_type": "markdown",
   "id": "c2756db8",
   "metadata": {},
   "source": [
    "## Reuters"
   ]
  },
  {
   "cell_type": "code",
   "execution_count": 2,
   "id": "ad609bcd",
   "metadata": {},
   "outputs": [],
   "source": [
    "options = Options()\n",
    "#options.headless = True\n",
    "b = webdriver.Chrome(options=options)\n",
    "\n",
    "url = 'https://www.reuters.com/search/news?blob=gaza+war&sortBy=date&dateRange=all'\n",
    "b.get(url)\n",
    "\n",
    "load_more_button = b.find_element(By.CLASS_NAME, 'search-result-more-txt')"
   ]
  },
  {
   "cell_type": "code",
   "execution_count": 3,
   "id": "de717633",
   "metadata": {
    "scrolled": true
   },
   "outputs": [],
   "source": [
    "# b.find_element(By.CLASS_NAME, 'search-result-list').get_attribute(\"outerHTML\")"
   ]
  },
  {
   "cell_type": "code",
   "execution_count": 4,
   "id": "0c432ac7",
   "metadata": {
    "scrolled": true
   },
   "outputs": [
    {
     "name": "stderr",
     "output_type": "stream",
     "text": [
      "/Users/zhounanlin/anaconda3/envs/anlp/lib/python3.11/site-packages/dateutil/parser/_parser.py:1207: UnknownTimezoneWarning: tzname EDT identified but not understood.  Pass `tzinfos` argument in order to correctly return a timezone-aware datetime.  In a future version, this will raise an exception.\n",
      "  warnings.warn(\"tzname {tzname} identified but not understood.  \"\n"
     ]
    }
   ],
   "source": [
    "response_text = b.find_element(By.CLASS_NAME, 'search-result-list').get_attribute(\"outerHTML\")\n",
    "\n",
    "soup = BeautifulSoup(response_text, 'html.parser')\n",
    "\n",
    "# Find the specific elements that contain the article links\n",
    "div_list = soup.find_all('div', class_='search-result-indiv')\n",
    "\n",
    "# for result in div_list:\n",
    "#     article_url = result.find('a')['href']\n",
    "#     print(\"Article URL:\", article_url)\n",
    "\n",
    "oldes_time_string = div_list[-1].find('h5').text\n",
    "oldest_article_time = parser.parse(oldes_time_string)"
   ]
  },
  {
   "cell_type": "code",
   "execution_count": 5,
   "id": "98a7eda7",
   "metadata": {},
   "outputs": [],
   "source": [
    "while oldest_article_time > datetime(2023, 10, 1, 0, 0):\n",
    "    load_more_button.click()\n",
    "    time.sleep(1)\n",
    "    \n",
    "    response_text = b.find_element(By.CLASS_NAME, 'search-result-list').get_attribute(\"outerHTML\")\n",
    "\n",
    "    soup = BeautifulSoup(response_text, 'html.parser')\n",
    "\n",
    "    # Find the specific elements that contain the article links\n",
    "    div_list = soup.find_all('div', class_='search-result-indiv')\n",
    "\n",
    "    # for result in div_list:\n",
    "    #     article_url = result.find('a')['href']\n",
    "    #     print(\"Article URL:\", article_url)\n",
    "\n",
    "    oldest_time_string = div_list[-1].find('h5').text\n",
    "    oldest_article_time = parser.parse(oldest_time_string)"
   ]
  },
  {
   "cell_type": "code",
   "execution_count": 6,
   "id": "66e5928f",
   "metadata": {},
   "outputs": [],
   "source": [
    "# Finally, you can retrieve the loaded content\n",
    "page_source = b.page_source\n",
    "\n",
    "# Close the browser\n",
    "b.quit()"
   ]
  },
  {
   "cell_type": "code",
   "execution_count": 9,
   "id": "a4134976",
   "metadata": {},
   "outputs": [
    {
     "name": "stderr",
     "output_type": "stream",
     "text": [
      "/Users/zhounanlin/anaconda3/envs/anlp/lib/python3.11/site-packages/dateutil/parser/_parser.py:1207: UnknownTimezoneWarning: tzname EDT identified but not understood.  Pass `tzinfos` argument in order to correctly return a timezone-aware datetime.  In a future version, this will raise an exception.\n",
      "  warnings.warn(\"tzname {tzname} identified but not understood.  \"\n"
     ]
    }
   ],
   "source": [
    "# save the following info to a dataframe\n",
    "\n",
    "date_list = []\n",
    "url_list = []\n",
    "title_list = []\n",
    "\n",
    "for result in div_list:\n",
    "    \n",
    "    article_date_string = result.find('h5').text\n",
    "    article_date = parser.parse(article_date_string)\n",
    "    date_list.append(article_date)\n",
    "    \n",
    "    article_url = result.find('a')['href']\n",
    "    url_list.append(article_url)\n",
    "    \n",
    "    article_title = result.find('h3', class_='search-result-title').text\n",
    "    title_list.append(article_title)\n",
    "    \n",
    "#     print(article_date)\n",
    "#     print(article_url)\n",
    "#     print(article_title)\n",
    "\n",
    "d = {'datetime': date_list, 'url': url_list, 'title':title_list}\n",
    "df_reuters_articles = pd.DataFrame(data=d)"
   ]
  },
  {
   "cell_type": "code",
   "execution_count": 10,
   "id": "73059fe9",
   "metadata": {},
   "outputs": [
    {
     "data": {
      "text/html": [
       "<div>\n",
       "<style scoped>\n",
       "    .dataframe tbody tr th:only-of-type {\n",
       "        vertical-align: middle;\n",
       "    }\n",
       "\n",
       "    .dataframe tbody tr th {\n",
       "        vertical-align: top;\n",
       "    }\n",
       "\n",
       "    .dataframe thead th {\n",
       "        text-align: right;\n",
       "    }\n",
       "</style>\n",
       "<table border=\"1\" class=\"dataframe\">\n",
       "  <thead>\n",
       "    <tr style=\"text-align: right;\">\n",
       "      <th></th>\n",
       "      <th>datetime</th>\n",
       "      <th>url</th>\n",
       "      <th>title</th>\n",
       "    </tr>\n",
       "  </thead>\n",
       "  <tbody>\n",
       "    <tr>\n",
       "      <th>0</th>\n",
       "      <td>2023-10-30 00:49:00</td>\n",
       "      <td>/article/idUSL1N3C009L</td>\n",
       "      <td>China stocks rise on support signs; HK dips on...</td>\n",
       "    </tr>\n",
       "    <tr>\n",
       "      <th>1</th>\n",
       "      <td>2023-10-30 00:25:00</td>\n",
       "      <td>/article/idUSKBN31U016</td>\n",
       "      <td>Oil down 1% ahead of U.S., China data</td>\n",
       "    </tr>\n",
       "    <tr>\n",
       "      <th>2</th>\n",
       "      <td>2023-10-30 00:25:00</td>\n",
       "      <td>/article/idUSL1N3C007N</td>\n",
       "      <td>UPDATE 1-Oil down 1% ahead of U.S., China data</td>\n",
       "    </tr>\n",
       "    <tr>\n",
       "      <th>3</th>\n",
       "      <td>2023-10-30 00:11:00</td>\n",
       "      <td>/article/idUSL4N3C00U4</td>\n",
       "      <td>Australia dollar gains on stronger retail data...</td>\n",
       "    </tr>\n",
       "    <tr>\n",
       "      <th>4</th>\n",
       "      <td>2023-10-29 23:34:00</td>\n",
       "      <td>/article/idUSKBN31T0FZ</td>\n",
       "      <td>Anti-Israeli protesters storm Russia's Dagesta...</td>\n",
       "    </tr>\n",
       "    <tr>\n",
       "      <th>...</th>\n",
       "      <td>...</td>\n",
       "      <td>...</td>\n",
       "      <td>...</td>\n",
       "    </tr>\n",
       "    <tr>\n",
       "      <th>985</th>\n",
       "      <td>2023-10-04 08:34:00</td>\n",
       "      <td>/article/idUSKBN31410C</td>\n",
       "      <td>Gaza unrest sends message about economic miser...</td>\n",
       "    </tr>\n",
       "    <tr>\n",
       "      <th>986</th>\n",
       "      <td>2023-09-27 11:01:00</td>\n",
       "      <td>/article/idUSKBN30X1FE</td>\n",
       "      <td>UN peace envoy, Egypt working to restore calm ...</td>\n",
       "    </tr>\n",
       "    <tr>\n",
       "      <th>987</th>\n",
       "      <td>2023-09-24 06:14:00</td>\n",
       "      <td>/article/idUSL1N3B001W</td>\n",
       "      <td>UPDATE 2-Israeli forces kill two Palestinians ...</td>\n",
       "    </tr>\n",
       "    <tr>\n",
       "      <th>988</th>\n",
       "      <td>2023-09-22 14:54:00</td>\n",
       "      <td>/article/idUSKBN30S1KD</td>\n",
       "      <td>Israeli drone hits Gaza as violent protests rage</td>\n",
       "    </tr>\n",
       "    <tr>\n",
       "      <th>989</th>\n",
       "      <td>2023-09-22 14:53:00</td>\n",
       "      <td>/article/idUSKBN30S0GV</td>\n",
       "      <td>Israeli drone hits Gaza as violent protests rage</td>\n",
       "    </tr>\n",
       "  </tbody>\n",
       "</table>\n",
       "<p>990 rows × 3 columns</p>\n",
       "</div>"
      ],
      "text/plain": [
       "               datetime                     url  \\\n",
       "0   2023-10-30 00:49:00  /article/idUSL1N3C009L   \n",
       "1   2023-10-30 00:25:00  /article/idUSKBN31U016   \n",
       "2   2023-10-30 00:25:00  /article/idUSL1N3C007N   \n",
       "3   2023-10-30 00:11:00  /article/idUSL4N3C00U4   \n",
       "4   2023-10-29 23:34:00  /article/idUSKBN31T0FZ   \n",
       "..                  ...                     ...   \n",
       "985 2023-10-04 08:34:00  /article/idUSKBN31410C   \n",
       "986 2023-09-27 11:01:00  /article/idUSKBN30X1FE   \n",
       "987 2023-09-24 06:14:00  /article/idUSL1N3B001W   \n",
       "988 2023-09-22 14:54:00  /article/idUSKBN30S1KD   \n",
       "989 2023-09-22 14:53:00  /article/idUSKBN30S0GV   \n",
       "\n",
       "                                                 title  \n",
       "0    China stocks rise on support signs; HK dips on...  \n",
       "1                Oil down 1% ahead of U.S., China data  \n",
       "2      UPDATE 1-Oil down 1% ahead of U.S., China data   \n",
       "3    Australia dollar gains on stronger retail data...  \n",
       "4    Anti-Israeli protesters storm Russia's Dagesta...  \n",
       "..                                                 ...  \n",
       "985  Gaza unrest sends message about economic miser...  \n",
       "986  UN peace envoy, Egypt working to restore calm ...  \n",
       "987  UPDATE 2-Israeli forces kill two Palestinians ...  \n",
       "988   Israeli drone hits Gaza as violent protests rage  \n",
       "989   Israeli drone hits Gaza as violent protests rage  \n",
       "\n",
       "[990 rows x 3 columns]"
      ]
     },
     "execution_count": 10,
     "metadata": {},
     "output_type": "execute_result"
    }
   ],
   "source": [
    "df_reuters_articles"
   ]
  },
  {
   "cell_type": "code",
   "execution_count": null,
   "id": "b2022540",
   "metadata": {},
   "outputs": [],
   "source": []
  }
 ],
 "metadata": {
  "kernelspec": {
   "display_name": "Python 3 (ipykernel)",
   "language": "python",
   "name": "python3"
  },
  "language_info": {
   "codemirror_mode": {
    "name": "ipython",
    "version": 3
   },
   "file_extension": ".py",
   "mimetype": "text/x-python",
   "name": "python",
   "nbconvert_exporter": "python",
   "pygments_lexer": "ipython3",
   "version": "3.11.5"
  }
 },
 "nbformat": 4,
 "nbformat_minor": 5
}
