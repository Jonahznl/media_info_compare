{
 "cells": [
  {
   "cell_type": "code",
   "execution_count": 1,
   "metadata": {
    "colab": {
     "base_uri": "https://localhost:8080/"
    },
    "executionInfo": {
     "elapsed": 10990,
     "status": "ok",
     "timestamp": 1697846035348,
     "user": {
      "displayName": "Jonah Lin",
      "userId": "07150942445035648152"
     },
     "user_tz": 420
    },
    "id": "CNcB1eyZfZdy",
    "outputId": "001f52f5-16ba-4d0e-87f5-424c1578345a"
   },
   "outputs": [],
   "source": [
    "#!pip install instaloader"
   ]
  },
  {
   "cell_type": "code",
   "execution_count": 2,
   "metadata": {},
   "outputs": [],
   "source": [
    "import instaloader\n",
    "from datetime import datetime\n",
    "from itertools import dropwhile, takewhile\n",
    "import pandas as pd\n",
    "\n",
    "L = instaloader.Instaloader()"
   ]
  },
  {
   "cell_type": "code",
   "execution_count": 3,
   "metadata": {},
   "outputs": [],
   "source": [
    "with open('../login_info.txt', encoding='utf-8') as file:\n",
    "    content = file.read()\n",
    "    username = content.split()[0]\n",
    "    pswd = content.split()[1]\n",
    "\n",
    "# L.login(username, pswd)\n",
    "# L.save_session_to_file('infonsociol_session_file')"
   ]
  },
  {
   "cell_type": "code",
   "execution_count": 4,
   "metadata": {},
   "outputs": [
    {
     "data": {
      "text/plain": [
       "'infonsociol'"
      ]
     },
     "execution_count": 4,
     "metadata": {},
     "output_type": "execute_result"
    }
   ],
   "source": [
    "username"
   ]
  },
  {
   "cell_type": "code",
   "execution_count": 5,
   "metadata": {},
   "outputs": [
    {
     "data": {
      "text/plain": [
       "'Bakamono?!0'"
      ]
     },
     "execution_count": 5,
     "metadata": {},
     "output_type": "execute_result"
    }
   ],
   "source": [
    "pswd"
   ]
  },
  {
   "cell_type": "code",
   "execution_count": 6,
   "metadata": {},
   "outputs": [],
   "source": [
    "account_usernames = [\"NBCNews\", \n",
    "                     \"FoxNews\", \n",
    "                     \"CNN\", \n",
    "                     \"NYTimes\",\n",
    "                     \"WashTimes\", \n",
    "                     \"WSJ\", \n",
    "                     \"BBCNews\", \n",
    "                     \"Reuters\",\n",
    "                     \"Time\", \n",
    "                     \"Aljazeeraenglish\", \n",
    "                     \"Tabletmag\", \n",
    "                     \"voxdotcom\",\n",
    "                     \"vicenews\", \n",
    "                     \"Axios\", \n",
    "                     \"HuffPost\"]"
   ]
  },
  {
   "cell_type": "markdown",
   "metadata": {},
   "source": [
    "For details of properties of Post class:\\\n",
    "https://instaloader.github.io/module/structures.html#posts\n",
    "\n",
    "For details of properties of Profile class:\\\n",
    "https://instaloader.github.io/module/structures.html?highlight=postcomment#profiles\n"
   ]
  },
  {
   "cell_type": "code",
   "execution_count": 7,
   "metadata": {
    "colab": {
     "base_uri": "https://localhost:8080/",
     "height": 685
    },
    "executionInfo": {
     "elapsed": 13792,
     "status": "error",
     "timestamp": 1697847657712,
     "user": {
      "displayName": "Jonah Lin",
      "userId": "07150942445035648152"
     },
     "user_tz": 420
    },
    "id": "V8qcQ1lYfhfg",
    "outputId": "1b3b1da3-79a7-445a-80b2-2bc4e3e7e428"
   },
   "outputs": [
    {
     "name": "stderr",
     "output_type": "stream",
     "text": [
      "JSON Query to graphql/query: HTTP error code 401. [retrying; skip with ^C]\n",
      "JSON Query to graphql/query: HTTP error code 401. [retrying; skip with ^C]\n"
     ]
    },
    {
     "ename": "ConnectionException",
     "evalue": "JSON Query to graphql/query: HTTP error code 401.",
     "output_type": "error",
     "traceback": [
      "\u001b[1;31m---------------------------------------------------------------------------\u001b[0m",
      "\u001b[1;31mConnectionException\u001b[0m                       Traceback (most recent call last)",
      "File \u001b[1;32m~\\anaconda3\\envs\\anlp\\Lib\\site-packages\\instaloader\\instaloadercontext.py:405\u001b[0m, in \u001b[0;36mInstaloaderContext.get_json\u001b[1;34m(self, path, params, host, session, _attempt, response_headers)\u001b[0m\n\u001b[0;32m    404\u001b[0m \u001b[38;5;28;01mif\u001b[39;00m resp\u001b[38;5;241m.\u001b[39mstatus_code \u001b[38;5;241m!=\u001b[39m \u001b[38;5;241m200\u001b[39m:\n\u001b[1;32m--> 405\u001b[0m     \u001b[38;5;28;01mraise\u001b[39;00m ConnectionException(\u001b[38;5;124m\"\u001b[39m\u001b[38;5;124mHTTP error code \u001b[39m\u001b[38;5;132;01m{}\u001b[39;00m\u001b[38;5;124m.\u001b[39m\u001b[38;5;124m\"\u001b[39m\u001b[38;5;241m.\u001b[39mformat(resp\u001b[38;5;241m.\u001b[39mstatus_code))\n\u001b[0;32m    406\u001b[0m is_html_query \u001b[38;5;241m=\u001b[39m \u001b[38;5;129;01mnot\u001b[39;00m is_graphql_query \u001b[38;5;129;01mand\u001b[39;00m \u001b[38;5;129;01mnot\u001b[39;00m \u001b[38;5;124m\"\u001b[39m\u001b[38;5;124m__a\u001b[39m\u001b[38;5;124m\"\u001b[39m \u001b[38;5;129;01min\u001b[39;00m params \u001b[38;5;129;01mand\u001b[39;00m host \u001b[38;5;241m==\u001b[39m \u001b[38;5;124m\"\u001b[39m\u001b[38;5;124mwww.instagram.com\u001b[39m\u001b[38;5;124m\"\u001b[39m\n",
      "\u001b[1;31mConnectionException\u001b[0m: HTTP error code 401.",
      "\nDuring handling of the above exception, another exception occurred:\n",
      "\u001b[1;31mConnectionException\u001b[0m                       Traceback (most recent call last)",
      "File \u001b[1;32m~\\anaconda3\\envs\\anlp\\Lib\\site-packages\\instaloader\\instaloadercontext.py:405\u001b[0m, in \u001b[0;36mInstaloaderContext.get_json\u001b[1;34m(self, path, params, host, session, _attempt, response_headers)\u001b[0m\n\u001b[0;32m    404\u001b[0m \u001b[38;5;28;01mif\u001b[39;00m resp\u001b[38;5;241m.\u001b[39mstatus_code \u001b[38;5;241m!=\u001b[39m \u001b[38;5;241m200\u001b[39m:\n\u001b[1;32m--> 405\u001b[0m     \u001b[38;5;28;01mraise\u001b[39;00m ConnectionException(\u001b[38;5;124m\"\u001b[39m\u001b[38;5;124mHTTP error code \u001b[39m\u001b[38;5;132;01m{}\u001b[39;00m\u001b[38;5;124m.\u001b[39m\u001b[38;5;124m\"\u001b[39m\u001b[38;5;241m.\u001b[39mformat(resp\u001b[38;5;241m.\u001b[39mstatus_code))\n\u001b[0;32m    406\u001b[0m is_html_query \u001b[38;5;241m=\u001b[39m \u001b[38;5;129;01mnot\u001b[39;00m is_graphql_query \u001b[38;5;129;01mand\u001b[39;00m \u001b[38;5;129;01mnot\u001b[39;00m \u001b[38;5;124m\"\u001b[39m\u001b[38;5;124m__a\u001b[39m\u001b[38;5;124m\"\u001b[39m \u001b[38;5;129;01min\u001b[39;00m params \u001b[38;5;129;01mand\u001b[39;00m host \u001b[38;5;241m==\u001b[39m \u001b[38;5;124m\"\u001b[39m\u001b[38;5;124mwww.instagram.com\u001b[39m\u001b[38;5;124m\"\u001b[39m\n",
      "\u001b[1;31mConnectionException\u001b[0m: HTTP error code 401.",
      "\nDuring handling of the above exception, another exception occurred:\n",
      "\u001b[1;31mConnectionException\u001b[0m                       Traceback (most recent call last)",
      "File \u001b[1;32m~\\anaconda3\\envs\\anlp\\Lib\\site-packages\\instaloader\\instaloadercontext.py:405\u001b[0m, in \u001b[0;36mInstaloaderContext.get_json\u001b[1;34m(self, path, params, host, session, _attempt, response_headers)\u001b[0m\n\u001b[0;32m    404\u001b[0m \u001b[38;5;28;01mif\u001b[39;00m resp\u001b[38;5;241m.\u001b[39mstatus_code \u001b[38;5;241m!=\u001b[39m \u001b[38;5;241m200\u001b[39m:\n\u001b[1;32m--> 405\u001b[0m     \u001b[38;5;28;01mraise\u001b[39;00m ConnectionException(\u001b[38;5;124m\"\u001b[39m\u001b[38;5;124mHTTP error code \u001b[39m\u001b[38;5;132;01m{}\u001b[39;00m\u001b[38;5;124m.\u001b[39m\u001b[38;5;124m\"\u001b[39m\u001b[38;5;241m.\u001b[39mformat(resp\u001b[38;5;241m.\u001b[39mstatus_code))\n\u001b[0;32m    406\u001b[0m is_html_query \u001b[38;5;241m=\u001b[39m \u001b[38;5;129;01mnot\u001b[39;00m is_graphql_query \u001b[38;5;129;01mand\u001b[39;00m \u001b[38;5;129;01mnot\u001b[39;00m \u001b[38;5;124m\"\u001b[39m\u001b[38;5;124m__a\u001b[39m\u001b[38;5;124m\"\u001b[39m \u001b[38;5;129;01min\u001b[39;00m params \u001b[38;5;129;01mand\u001b[39;00m host \u001b[38;5;241m==\u001b[39m \u001b[38;5;124m\"\u001b[39m\u001b[38;5;124mwww.instagram.com\u001b[39m\u001b[38;5;124m\"\u001b[39m\n",
      "\u001b[1;31mConnectionException\u001b[0m: HTTP error code 401.",
      "\nThe above exception was the direct cause of the following exception:\n",
      "\u001b[1;31mConnectionException\u001b[0m                       Traceback (most recent call last)",
      "Cell \u001b[1;32mIn[7], line 27\u001b[0m\n\u001b[0;32m     24\u001b[0m like_counts_list \u001b[38;5;241m=\u001b[39m []\n\u001b[0;32m     25\u001b[0m comment_counts_list \u001b[38;5;241m=\u001b[39m []\n\u001b[1;32m---> 27\u001b[0m \u001b[38;5;28;01mfor\u001b[39;00m post \u001b[38;5;129;01min\u001b[39;00m takewhile(\u001b[38;5;28;01mlambda\u001b[39;00m p: p\u001b[38;5;241m.\u001b[39mdate \u001b[38;5;241m>\u001b[39m SINCE, dropwhile(\u001b[38;5;28;01mlambda\u001b[39;00m p: p\u001b[38;5;241m.\u001b[39mdate \u001b[38;5;241m>\u001b[39m UNTIL, posts)):\n\u001b[0;32m     28\u001b[0m \n\u001b[0;32m     29\u001b[0m     \u001b[38;5;66;03m# details of post: date&time, count of likes, count of comments, url\u001b[39;00m\n\u001b[0;32m     30\u001b[0m     url_code_list\u001b[38;5;241m.\u001b[39mappend(post\u001b[38;5;241m.\u001b[39mshortcode)\n\u001b[0;32m     31\u001b[0m     time_utc_list\u001b[38;5;241m.\u001b[39mappend(post\u001b[38;5;241m.\u001b[39mdate_utc)\n",
      "File \u001b[1;32m~\\anaconda3\\envs\\anlp\\Lib\\site-packages\\instaloader\\nodeiterator.py:141\u001b[0m, in \u001b[0;36mNodeIterator.__next__\u001b[1;34m(self)\u001b[0m\n\u001b[0;32m    139\u001b[0m     \u001b[38;5;28;01mreturn\u001b[39;00m item\n\u001b[0;32m    140\u001b[0m \u001b[38;5;28;01mif\u001b[39;00m \u001b[38;5;28mself\u001b[39m\u001b[38;5;241m.\u001b[39m_data\u001b[38;5;241m.\u001b[39mget(\u001b[38;5;124m'\u001b[39m\u001b[38;5;124mpage_info\u001b[39m\u001b[38;5;124m'\u001b[39m, {})\u001b[38;5;241m.\u001b[39mget(\u001b[38;5;124m'\u001b[39m\u001b[38;5;124mhas_next_page\u001b[39m\u001b[38;5;124m'\u001b[39m):\n\u001b[1;32m--> 141\u001b[0m     query_response \u001b[38;5;241m=\u001b[39m \u001b[38;5;28mself\u001b[39m\u001b[38;5;241m.\u001b[39m_query(\u001b[38;5;28mself\u001b[39m\u001b[38;5;241m.\u001b[39m_data[\u001b[38;5;124m'\u001b[39m\u001b[38;5;124mpage_info\u001b[39m\u001b[38;5;124m'\u001b[39m][\u001b[38;5;124m'\u001b[39m\u001b[38;5;124mend_cursor\u001b[39m\u001b[38;5;124m'\u001b[39m])\n\u001b[0;32m    142\u001b[0m     \u001b[38;5;28;01mif\u001b[39;00m \u001b[38;5;28mself\u001b[39m\u001b[38;5;241m.\u001b[39m_data[\u001b[38;5;124m'\u001b[39m\u001b[38;5;124medges\u001b[39m\u001b[38;5;124m'\u001b[39m] \u001b[38;5;241m!=\u001b[39m query_response[\u001b[38;5;124m'\u001b[39m\u001b[38;5;124medges\u001b[39m\u001b[38;5;124m'\u001b[39m] \u001b[38;5;129;01mand\u001b[39;00m \u001b[38;5;28mlen\u001b[39m(query_response[\u001b[38;5;124m'\u001b[39m\u001b[38;5;124medges\u001b[39m\u001b[38;5;124m'\u001b[39m]) \u001b[38;5;241m>\u001b[39m \u001b[38;5;241m0\u001b[39m:\n\u001b[0;32m    143\u001b[0m         page_index, data \u001b[38;5;241m=\u001b[39m \u001b[38;5;28mself\u001b[39m\u001b[38;5;241m.\u001b[39m_page_index, \u001b[38;5;28mself\u001b[39m\u001b[38;5;241m.\u001b[39m_data\n",
      "File \u001b[1;32m~\\anaconda3\\envs\\anlp\\Lib\\site-packages\\instaloader\\nodeiterator.py:103\u001b[0m, in \u001b[0;36mNodeIterator._query\u001b[1;34m(self, after)\u001b[0m\n\u001b[0;32m    100\u001b[0m     pagination_variables[\u001b[38;5;124m'\u001b[39m\u001b[38;5;124mafter\u001b[39m\u001b[38;5;124m'\u001b[39m] \u001b[38;5;241m=\u001b[39m after\n\u001b[0;32m    101\u001b[0m \u001b[38;5;28;01mtry\u001b[39;00m:\n\u001b[0;32m    102\u001b[0m     data \u001b[38;5;241m=\u001b[39m \u001b[38;5;28mself\u001b[39m\u001b[38;5;241m.\u001b[39m_edge_extractor(\n\u001b[1;32m--> 103\u001b[0m         \u001b[38;5;28mself\u001b[39m\u001b[38;5;241m.\u001b[39m_context\u001b[38;5;241m.\u001b[39mgraphql_query(\n\u001b[0;32m    104\u001b[0m             \u001b[38;5;28mself\u001b[39m\u001b[38;5;241m.\u001b[39m_query_hash, {\u001b[38;5;241m*\u001b[39m\u001b[38;5;241m*\u001b[39m\u001b[38;5;28mself\u001b[39m\u001b[38;5;241m.\u001b[39m_query_variables, \u001b[38;5;241m*\u001b[39m\u001b[38;5;241m*\u001b[39mpagination_variables}, \u001b[38;5;28mself\u001b[39m\u001b[38;5;241m.\u001b[39m_query_referer\n\u001b[0;32m    105\u001b[0m         )\n\u001b[0;32m    106\u001b[0m     )\n\u001b[0;32m    107\u001b[0m     \u001b[38;5;28mself\u001b[39m\u001b[38;5;241m.\u001b[39m_best_before \u001b[38;5;241m=\u001b[39m datetime\u001b[38;5;241m.\u001b[39mnow() \u001b[38;5;241m+\u001b[39m NodeIterator\u001b[38;5;241m.\u001b[39m_shelf_life\n\u001b[0;32m    108\u001b[0m     \u001b[38;5;28;01mreturn\u001b[39;00m data\n",
      "File \u001b[1;32m~\\anaconda3\\envs\\anlp\\Lib\\site-packages\\instaloader\\instaloadercontext.py:483\u001b[0m, in \u001b[0;36mInstaloaderContext.graphql_query\u001b[1;34m(self, query_hash, variables, referer, rhx_gis)\u001b[0m\n\u001b[0;32m    480\u001b[0m         x_instagram_gis \u001b[38;5;241m=\u001b[39m hashlib\u001b[38;5;241m.\u001b[39mmd5(values\u001b[38;5;241m.\u001b[39mencode())\u001b[38;5;241m.\u001b[39mhexdigest()\n\u001b[0;32m    481\u001b[0m         tmpsession\u001b[38;5;241m.\u001b[39mheaders[\u001b[38;5;124m'\u001b[39m\u001b[38;5;124mx-instagram-gis\u001b[39m\u001b[38;5;124m'\u001b[39m] \u001b[38;5;241m=\u001b[39m x_instagram_gis\n\u001b[1;32m--> 483\u001b[0m     resp_json \u001b[38;5;241m=\u001b[39m \u001b[38;5;28mself\u001b[39m\u001b[38;5;241m.\u001b[39mget_json(\u001b[38;5;124m'\u001b[39m\u001b[38;5;124mgraphql/query\u001b[39m\u001b[38;5;124m'\u001b[39m,\n\u001b[0;32m    484\u001b[0m                               params\u001b[38;5;241m=\u001b[39m{\u001b[38;5;124m'\u001b[39m\u001b[38;5;124mquery_hash\u001b[39m\u001b[38;5;124m'\u001b[39m: query_hash,\n\u001b[0;32m    485\u001b[0m                                       \u001b[38;5;124m'\u001b[39m\u001b[38;5;124mvariables\u001b[39m\u001b[38;5;124m'\u001b[39m: variables_json},\n\u001b[0;32m    486\u001b[0m                               session\u001b[38;5;241m=\u001b[39mtmpsession)\n\u001b[0;32m    487\u001b[0m \u001b[38;5;28;01mif\u001b[39;00m \u001b[38;5;124m'\u001b[39m\u001b[38;5;124mstatus\u001b[39m\u001b[38;5;124m'\u001b[39m \u001b[38;5;129;01mnot\u001b[39;00m \u001b[38;5;129;01min\u001b[39;00m resp_json:\n\u001b[0;32m    488\u001b[0m     \u001b[38;5;28mself\u001b[39m\u001b[38;5;241m.\u001b[39merror(\u001b[38;5;124m\"\u001b[39m\u001b[38;5;124mGraphQL response did not contain a \u001b[39m\u001b[38;5;130;01m\\\"\u001b[39;00m\u001b[38;5;124mstatus\u001b[39m\u001b[38;5;130;01m\\\"\u001b[39;00m\u001b[38;5;124m field.\u001b[39m\u001b[38;5;124m\"\u001b[39m)\n",
      "File \u001b[1;32m~\\anaconda3\\envs\\anlp\\Lib\\site-packages\\instaloader\\instaloadercontext.py:448\u001b[0m, in \u001b[0;36mInstaloaderContext.get_json\u001b[1;34m(self, path, params, host, session, _attempt, response_headers)\u001b[0m\n\u001b[0;32m    446\u001b[0m         \u001b[38;5;28;01mif\u001b[39;00m is_other_query:\n\u001b[0;32m    447\u001b[0m             \u001b[38;5;28mself\u001b[39m\u001b[38;5;241m.\u001b[39m_rate_controller\u001b[38;5;241m.\u001b[39mhandle_429(\u001b[38;5;124m'\u001b[39m\u001b[38;5;124mother\u001b[39m\u001b[38;5;124m'\u001b[39m)\n\u001b[1;32m--> 448\u001b[0m     \u001b[38;5;28;01mreturn\u001b[39;00m \u001b[38;5;28mself\u001b[39m\u001b[38;5;241m.\u001b[39mget_json(path\u001b[38;5;241m=\u001b[39mpath, params\u001b[38;5;241m=\u001b[39mparams, host\u001b[38;5;241m=\u001b[39mhost, session\u001b[38;5;241m=\u001b[39msess, _attempt\u001b[38;5;241m=\u001b[39m_attempt \u001b[38;5;241m+\u001b[39m \u001b[38;5;241m1\u001b[39m,\n\u001b[0;32m    449\u001b[0m                          response_headers\u001b[38;5;241m=\u001b[39mresponse_headers)\n\u001b[0;32m    450\u001b[0m \u001b[38;5;28;01mexcept\u001b[39;00m \u001b[38;5;167;01mKeyboardInterrupt\u001b[39;00m:\n\u001b[0;32m    451\u001b[0m     \u001b[38;5;28mself\u001b[39m\u001b[38;5;241m.\u001b[39merror(\u001b[38;5;124m\"\u001b[39m\u001b[38;5;124m[skipped by user]\u001b[39m\u001b[38;5;124m\"\u001b[39m, repeat_at_end\u001b[38;5;241m=\u001b[39m\u001b[38;5;28;01mFalse\u001b[39;00m)\n",
      "File \u001b[1;32m~\\anaconda3\\envs\\anlp\\Lib\\site-packages\\instaloader\\instaloadercontext.py:448\u001b[0m, in \u001b[0;36mInstaloaderContext.get_json\u001b[1;34m(self, path, params, host, session, _attempt, response_headers)\u001b[0m\n\u001b[0;32m    446\u001b[0m         \u001b[38;5;28;01mif\u001b[39;00m is_other_query:\n\u001b[0;32m    447\u001b[0m             \u001b[38;5;28mself\u001b[39m\u001b[38;5;241m.\u001b[39m_rate_controller\u001b[38;5;241m.\u001b[39mhandle_429(\u001b[38;5;124m'\u001b[39m\u001b[38;5;124mother\u001b[39m\u001b[38;5;124m'\u001b[39m)\n\u001b[1;32m--> 448\u001b[0m     \u001b[38;5;28;01mreturn\u001b[39;00m \u001b[38;5;28mself\u001b[39m\u001b[38;5;241m.\u001b[39mget_json(path\u001b[38;5;241m=\u001b[39mpath, params\u001b[38;5;241m=\u001b[39mparams, host\u001b[38;5;241m=\u001b[39mhost, session\u001b[38;5;241m=\u001b[39msess, _attempt\u001b[38;5;241m=\u001b[39m_attempt \u001b[38;5;241m+\u001b[39m \u001b[38;5;241m1\u001b[39m,\n\u001b[0;32m    449\u001b[0m                          response_headers\u001b[38;5;241m=\u001b[39mresponse_headers)\n\u001b[0;32m    450\u001b[0m \u001b[38;5;28;01mexcept\u001b[39;00m \u001b[38;5;167;01mKeyboardInterrupt\u001b[39;00m:\n\u001b[0;32m    451\u001b[0m     \u001b[38;5;28mself\u001b[39m\u001b[38;5;241m.\u001b[39merror(\u001b[38;5;124m\"\u001b[39m\u001b[38;5;124m[skipped by user]\u001b[39m\u001b[38;5;124m\"\u001b[39m, repeat_at_end\u001b[38;5;241m=\u001b[39m\u001b[38;5;28;01mFalse\u001b[39;00m)\n",
      "File \u001b[1;32m~\\anaconda3\\envs\\anlp\\Lib\\site-packages\\instaloader\\instaloadercontext.py:438\u001b[0m, in \u001b[0;36mInstaloaderContext.get_json\u001b[1;34m(self, path, params, host, session, _attempt, response_headers)\u001b[0m\n\u001b[0;32m    436\u001b[0m         \u001b[38;5;28;01mraise\u001b[39;00m QueryReturnedNotFoundException(error_string) \u001b[38;5;28;01mfrom\u001b[39;00m \u001b[38;5;21;01merr\u001b[39;00m\n\u001b[0;32m    437\u001b[0m     \u001b[38;5;28;01melse\u001b[39;00m:\n\u001b[1;32m--> 438\u001b[0m         \u001b[38;5;28;01mraise\u001b[39;00m ConnectionException(error_string) \u001b[38;5;28;01mfrom\u001b[39;00m \u001b[38;5;21;01merr\u001b[39;00m\n\u001b[0;32m    439\u001b[0m \u001b[38;5;28mself\u001b[39m\u001b[38;5;241m.\u001b[39merror(error_string \u001b[38;5;241m+\u001b[39m \u001b[38;5;124m\"\u001b[39m\u001b[38;5;124m [retrying; skip with ^C]\u001b[39m\u001b[38;5;124m\"\u001b[39m, repeat_at_end\u001b[38;5;241m=\u001b[39m\u001b[38;5;28;01mFalse\u001b[39;00m)\n\u001b[0;32m    440\u001b[0m \u001b[38;5;28;01mtry\u001b[39;00m:\n",
      "\u001b[1;31mConnectionException\u001b[0m: JSON Query to graphql/query: HTTP error code 401."
     ]
    }
   ],
   "source": [
    "# summary info of each account's posts\n",
    "# should have same length as account_usernames\n",
    "posts_df_list = []\n",
    "\n",
    "\n",
    "# lists to generate summary info of basic account info\n",
    "# should have same length as account_usernames\n",
    "userid_list = []\n",
    "followers_list = []\n",
    "full_name_list = []\n",
    "is_verified_list = []\n",
    "post_count_list = []    # counts of posts since 231001\n",
    "\n",
    "for username in account_usernames:\n",
    "    posts = instaloader.Profile.from_username(L.context, username).get_posts()\n",
    "\n",
    "    SINCE = datetime(2023, 10, 1)\n",
    "    UNTIL = datetime.today()\n",
    "    \n",
    "    url_code_list = []\n",
    "    time_utc_list = []\n",
    "    content_types_list = []\n",
    "    captions_list = []\n",
    "    like_counts_list = []\n",
    "    comment_counts_list = []\n",
    "\n",
    "    for post in takewhile(lambda p: p.date > SINCE, dropwhile(lambda p: p.date > UNTIL, posts)):\n",
    "    \n",
    "        # details of post: date&time, count of likes, count of comments, url\n",
    "        url_code_list.append(post.shortcode)\n",
    "        time_utc_list.append(post.date_utc)\n",
    "        content_types_list.append(post.typename)\n",
    "        captions_list.append(post.caption)\n",
    "        like_counts_list.append(post.likes)\n",
    "        comment_counts_list.append(post.comments)\n",
    "        # L.download_post(post, username)\n",
    "    \n",
    "    # create df with info of each posts from this account\n",
    "    df_name = \"df_\" + username\n",
    "    exec_string = \"\"\"{} = pd.DataFrame(data={{\n",
    "    'url_code': url_code_list, \n",
    "    'time_utc': pd.to_datetime(time_utc_list), \n",
    "    'type': content_types_list,\n",
    "    'caption': captions_list,\n",
    "    'likes': like_counts_list, \n",
    "    'comments': comment_counts_list}})\n",
    "    \"\"\"\n",
    "    exec(exec_string.format(df_name))\n",
    "    \n",
    "    # export df to csv\n",
    "    exec_string = \"{}.to_csv()\"\n",
    "    exec(exec_string.format(df_name))\n",
    "    \n",
    "    # add the dataframe to the list df_list\n",
    "    exec_string = \"posts_df_list.append({})\"\n",
    "    exec(exec_string.format(df_name))\n",
    "    \n",
    "    print(\"Done with posts of\", username)\n",
    "    print(\"{} has {} posts since October 1st.\".format(username, len(url_code_list)))\n",
    "    post_count_list.append(len(url_code_list))\n",
    "    \n",
    "    \n",
    "    # append this account info\n",
    "    userid_list.append(post.owner_profile.userid)\n",
    "    followers_list.append(post.owner_profile.followers)\n",
    "    full_name_list.append(post.owner_profile.full_name)\n",
    "    is_verified_list.append(post.owner_profile.is_verified)\n",
    "    \n",
    "d = {'user_id': userid_list, 'followers': followers_list, 'full_name':full_name_list, 'is_verified':is_verified_list, 'posts_since_231001': post_count_list}\n",
    "df_accounts = pd.DataFrame(data=d)"
   ]
  },
  {
   "cell_type": "code",
   "execution_count": null,
   "metadata": {},
   "outputs": [],
   "source": [
    "df_NBCNews.shape[0], df_FoxNews.shape[0], df_CNN.shape[0], df_NYTimes.shape[0], df_WashTimes.shape[0]"
   ]
  },
  {
   "cell_type": "code",
   "execution_count": null,
   "metadata": {},
   "outputs": [],
   "source": [
    "df_WSJ.shape[0],df_BBCNews.shape[0],df_Reuters.shape[0],df_Time.shape[0],df_Aljazeeraenglish.shape[0]"
   ]
  },
  {
   "cell_type": "code",
   "execution_count": null,
   "metadata": {},
   "outputs": [],
   "source": [
    "df_Tabletmag.shape[0], df_voxdotcom.shape[0],df_vicenews.shape[0],df_Axios.shape[0],df_HuffPost.shape[0]"
   ]
  },
  {
   "cell_type": "code",
   "execution_count": null,
   "metadata": {},
   "outputs": [],
   "source": [
    "post.owner_profile.followers"
   ]
  },
  {
   "cell_type": "code",
   "execution_count": null,
   "metadata": {},
   "outputs": [],
   "source": []
  }
 ],
 "metadata": {
  "colab": {
   "authorship_tag": "ABX9TyNupxbxpMqvKZJiGm6MzCBl",
   "provenance": []
  },
  "kernelspec": {
   "display_name": "Python 3 (ipykernel)",
   "language": "python",
   "name": "python3"
  },
  "language_info": {
   "codemirror_mode": {
    "name": "ipython",
    "version": 3
   },
   "file_extension": ".py",
   "mimetype": "text/x-python",
   "name": "python",
   "nbconvert_exporter": "python",
   "pygments_lexer": "ipython3",
   "version": "3.11.4"
  }
 },
 "nbformat": 4,
 "nbformat_minor": 1
}
