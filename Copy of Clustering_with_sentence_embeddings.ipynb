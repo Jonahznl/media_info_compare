{
 "cells": [
  {
   "cell_type": "markdown",
   "metadata": {},
   "source": [
    "## Adapted from Clustering_with_sentence_embeddings.ipynb from info 256 repo"
   ]
  },
  {
   "cell_type": "markdown",
   "metadata": {
    "id": "zZWo_wE_U0i4"
   },
   "source": [
    "This notebook explores the use of SentenceBERT to generate representations of sequences (sentences, documents) and clustering those representations using K-means."
   ]
  },
  {
   "cell_type": "code",
   "execution_count": 1,
   "metadata": {
    "colab": {
     "base_uri": "https://localhost:8080/"
    },
    "executionInfo": {
     "elapsed": 22134,
     "status": "ok",
     "timestamp": 1698909417534,
     "user": {
      "displayName": "Jonah Lin",
      "userId": "07150942445035648152"
     },
     "user_tz": 420
    },
    "id": "xsLXe22vZRyY",
    "outputId": "d2229c7d-c2b4-4db0-9f4c-06defadffee9"
   },
   "outputs": [],
   "source": [
    "# !pip install sentence-transformers"
   ]
  },
  {
   "cell_type": "code",
   "execution_count": 2,
   "metadata": {
    "colab": {
     "base_uri": "https://localhost:8080/"
    },
    "executionInfo": {
     "elapsed": 2662,
     "status": "ok",
     "timestamp": 1698909420177,
     "user": {
      "displayName": "Jonah Lin",
      "userId": "07150942445035648152"
     },
     "user_tz": 420
    },
    "id": "SEvo_V2kZcf5",
    "outputId": "4eb3053a-1d18-4bd2-aed6-07bec4c5ce21"
   },
   "outputs": [],
   "source": [
    "# Get movies summaries and book titles to cluster\n",
    "# !wget https://raw.githubusercontent.com/dbamman/anlp23/main/data/plot_summaries.txt\n",
    "# !wget https://raw.githubusercontent.com/dbamman/anlp23/main/data/loc/dev.tsv -O book_titles.txt"
   ]
  },
  {
   "cell_type": "code",
   "execution_count": 3,
   "metadata": {
    "id": "cPnLGCaGSOGN"
   },
   "outputs": [],
   "source": [
    "from sklearn.cluster import KMeans\n",
    "from math import sqrt\n",
    "from sentence_transformers import SentenceTransformer\n",
    "import numpy as np\n",
    "import pandas as pd"
   ]
  },
  {
   "cell_type": "code",
   "execution_count": 15,
   "metadata": {},
   "outputs": [
    {
     "data": {
      "text/html": [
       "<div>\n",
       "<style scoped>\n",
       "    .dataframe tbody tr th:only-of-type {\n",
       "        vertical-align: middle;\n",
       "    }\n",
       "\n",
       "    .dataframe tbody tr th {\n",
       "        vertical-align: top;\n",
       "    }\n",
       "\n",
       "    .dataframe thead th {\n",
       "        text-align: right;\n",
       "    }\n",
       "</style>\n",
       "<table border=\"1\" class=\"dataframe\">\n",
       "  <thead>\n",
       "    <tr style=\"text-align: right;\">\n",
       "      <th></th>\n",
       "      <th>owner_username</th>\n",
       "      <th>url_code</th>\n",
       "      <th>time_utc</th>\n",
       "      <th>type</th>\n",
       "      <th>caption</th>\n",
       "      <th>likes</th>\n",
       "      <th>comments</th>\n",
       "      <th>is_about_gaza_1</th>\n",
       "      <th>is_about_gaza_2</th>\n",
       "    </tr>\n",
       "  </thead>\n",
       "  <tbody>\n",
       "    <tr>\n",
       "      <th>0</th>\n",
       "      <td>NBCNews</td>\n",
       "      <td>CzHiqkVOtlV</td>\n",
       "      <td>2023-11-01 21:04:19</td>\n",
       "      <td>GraphVideo</td>\n",
       "      <td>The 2023 Rockefeller Center Christmas tree is ...</td>\n",
       "      <td>5140</td>\n",
       "      <td>144</td>\n",
       "      <td>False</td>\n",
       "      <td>False</td>\n",
       "    </tr>\n",
       "    <tr>\n",
       "      <th>1</th>\n",
       "      <td>NBCNews</td>\n",
       "      <td>CzHbdY8rQIf</td>\n",
       "      <td>2023-11-01 20:01:24</td>\n",
       "      <td>GraphVideo</td>\n",
       "      <td>Foreign passport-holders and critically injure...</td>\n",
       "      <td>4595</td>\n",
       "      <td>349</td>\n",
       "      <td>True</td>\n",
       "      <td>True</td>\n",
       "    </tr>\n",
       "    <tr>\n",
       "      <th>2</th>\n",
       "      <td>NBCNews</td>\n",
       "      <td>CzHDmj0rXos</td>\n",
       "      <td>2023-11-01 16:32:48</td>\n",
       "      <td>GraphSidecar</td>\n",
       "      <td>Clutching suitcases and foreign passports, on ...</td>\n",
       "      <td>1561</td>\n",
       "      <td>340</td>\n",
       "      <td>True</td>\n",
       "      <td>True</td>\n",
       "    </tr>\n",
       "    <tr>\n",
       "      <th>3</th>\n",
       "      <td>NBCNews</td>\n",
       "      <td>CzE3AMurPNg</td>\n",
       "      <td>2023-10-31 20:04:18</td>\n",
       "      <td>GraphVideo</td>\n",
       "      <td>Boston University students dropped pumpkins fi...</td>\n",
       "      <td>11396</td>\n",
       "      <td>415</td>\n",
       "      <td>False</td>\n",
       "      <td>False</td>\n",
       "    </tr>\n",
       "    <tr>\n",
       "      <th>4</th>\n",
       "      <td>NBCNews</td>\n",
       "      <td>CzEUNv9LvG5</td>\n",
       "      <td>2023-10-31 15:00:14</td>\n",
       "      <td>GraphImage</td>\n",
       "      <td>Tampa is finding that more people equals more ...</td>\n",
       "      <td>3367</td>\n",
       "      <td>252</td>\n",
       "      <td>False</td>\n",
       "      <td>False</td>\n",
       "    </tr>\n",
       "  </tbody>\n",
       "</table>\n",
       "</div>"
      ],
      "text/plain": [
       "  owner_username     url_code             time_utc          type  \\\n",
       "0        NBCNews  CzHiqkVOtlV  2023-11-01 21:04:19    GraphVideo   \n",
       "1        NBCNews  CzHbdY8rQIf  2023-11-01 20:01:24    GraphVideo   \n",
       "2        NBCNews  CzHDmj0rXos  2023-11-01 16:32:48  GraphSidecar   \n",
       "3        NBCNews  CzE3AMurPNg  2023-10-31 20:04:18    GraphVideo   \n",
       "4        NBCNews  CzEUNv9LvG5  2023-10-31 15:00:14    GraphImage   \n",
       "\n",
       "                                             caption  likes  comments  \\\n",
       "0  The 2023 Rockefeller Center Christmas tree is ...   5140       144   \n",
       "1  Foreign passport-holders and critically injure...   4595       349   \n",
       "2  Clutching suitcases and foreign passports, on ...   1561       340   \n",
       "3  Boston University students dropped pumpkins fi...  11396       415   \n",
       "4  Tampa is finding that more people equals more ...   3367       252   \n",
       "\n",
       "   is_about_gaza_1  is_about_gaza_2  \n",
       "0            False            False  \n",
       "1             True             True  \n",
       "2             True             True  \n",
       "3            False            False  \n",
       "4            False            False  "
      ]
     },
     "execution_count": 15,
     "metadata": {},
     "output_type": "execute_result"
    }
   ],
   "source": [
    "stacked_ins_df = pd.read_csv('scraping/stacked_ins_df.csv')\n",
    "stacked_ins_df.head()"
   ]
  },
  {
   "cell_type": "code",
   "execution_count": 16,
   "metadata": {},
   "outputs": [
    {
     "data": {
      "text/html": [
       "<div>\n",
       "<style scoped>\n",
       "    .dataframe tbody tr th:only-of-type {\n",
       "        vertical-align: middle;\n",
       "    }\n",
       "\n",
       "    .dataframe tbody tr th {\n",
       "        vertical-align: top;\n",
       "    }\n",
       "\n",
       "    .dataframe thead th {\n",
       "        text-align: right;\n",
       "    }\n",
       "</style>\n",
       "<table border=\"1\" class=\"dataframe\">\n",
       "  <thead>\n",
       "    <tr style=\"text-align: right;\">\n",
       "      <th></th>\n",
       "      <th>Unnamed: 0</th>\n",
       "      <th>datetime</th>\n",
       "      <th>url</th>\n",
       "      <th>title</th>\n",
       "      <th>owner_username</th>\n",
       "    </tr>\n",
       "  </thead>\n",
       "  <tbody>\n",
       "    <tr>\n",
       "      <th>0</th>\n",
       "      <td>0</td>\n",
       "      <td>2023-10-28 21:22:28.503212</td>\n",
       "      <td>https://www.nbcnews.com/news/world/israel-hama...</td>\n",
       "      <td>Israel-Gaza conflict could spread into Middle ...</td>\n",
       "      <td>NBCNews</td>\n",
       "    </tr>\n",
       "    <tr>\n",
       "      <th>1</th>\n",
       "      <td>1</td>\n",
       "      <td>2023-10-30 17:22:28.503295</td>\n",
       "      <td>https://www.nbcnews.com/news/world/live-blog/i...</td>\n",
       "      <td>Israel-Hamas war live updates: Fears rise over...</td>\n",
       "      <td>NBCNews</td>\n",
       "    </tr>\n",
       "    <tr>\n",
       "      <th>2</th>\n",
       "      <td>2</td>\n",
       "      <td>2023-10-29 21:22:28.503362</td>\n",
       "      <td>https://www.nbcnews.com/nightly-news/video/isr...</td>\n",
       "      <td>Israel-Hamas war enters new phase as Israel ex...</td>\n",
       "      <td>NBCNews</td>\n",
       "    </tr>\n",
       "    <tr>\n",
       "      <th>3</th>\n",
       "      <td>3</td>\n",
       "      <td>2023-10-30 00:22:28.503487</td>\n",
       "      <td>https://www.nbcnews.com/news/world/live-blog/i...</td>\n",
       "      <td>Thousands break into Gaza aid warehouse</td>\n",
       "      <td>NBCNews</td>\n",
       "    </tr>\n",
       "    <tr>\n",
       "      <th>4</th>\n",
       "      <td>4</td>\n",
       "      <td>2023-10-28 21:22:28.503709</td>\n",
       "      <td>https://www.nbcnews.com/news/world/live-blog/i...</td>\n",
       "      <td>Airstrikes pound Gaza as Israel expands ground...</td>\n",
       "      <td>NBCNews</td>\n",
       "    </tr>\n",
       "  </tbody>\n",
       "</table>\n",
       "</div>"
      ],
      "text/plain": [
       "   Unnamed: 0                    datetime  \\\n",
       "0           0  2023-10-28 21:22:28.503212   \n",
       "1           1  2023-10-30 17:22:28.503295   \n",
       "2           2  2023-10-29 21:22:28.503362   \n",
       "3           3  2023-10-30 00:22:28.503487   \n",
       "4           4  2023-10-28 21:22:28.503709   \n",
       "\n",
       "                                                 url  \\\n",
       "0  https://www.nbcnews.com/news/world/israel-hama...   \n",
       "1  https://www.nbcnews.com/news/world/live-blog/i...   \n",
       "2  https://www.nbcnews.com/nightly-news/video/isr...   \n",
       "3  https://www.nbcnews.com/news/world/live-blog/i...   \n",
       "4  https://www.nbcnews.com/news/world/live-blog/i...   \n",
       "\n",
       "                                               title owner_username  \n",
       "0  Israel-Gaza conflict could spread into Middle ...        NBCNews  \n",
       "1  Israel-Hamas war live updates: Fears rise over...        NBCNews  \n",
       "2  Israel-Hamas war enters new phase as Israel ex...        NBCNews  \n",
       "3            Thousands break into Gaza aid warehouse        NBCNews  \n",
       "4  Airstrikes pound Gaza as Israel expands ground...        NBCNews  "
      ]
     },
     "execution_count": 16,
     "metadata": {},
     "output_type": "execute_result"
    }
   ],
   "source": [
    "stacked_news_df = pd.read_csv('scraping/stacked_news_df.csv')\n",
    "stacked_news_df.head()"
   ]
  },
  {
   "cell_type": "code",
   "execution_count": 5,
   "metadata": {
    "id": "SmChmfWtZmYc"
   },
   "outputs": [
    {
     "data": {
      "application/vnd.jupyter.widget-view+json": {
       "model_id": "628649975ca545ebacbab27699a11bf9",
       "version_major": 2,
       "version_minor": 0
      },
      "text/plain": [
       "(…)68ef928103d92f95afc487e68/.gitattributes:   0%|          | 0.00/737 [00:00<?, ?B/s]"
      ]
     },
     "metadata": {},
     "output_type": "display_data"
    },
    {
     "data": {
      "application/vnd.jupyter.widget-view+json": {
       "model_id": "b32ca24c48ec4f04a263875fd4dd4b92",
       "version_major": 2,
       "version_minor": 0
      },
      "text/plain": [
       "(…)103d92f95afc487e68/1_Pooling/config.json:   0%|          | 0.00/190 [00:00<?, ?B/s]"
      ]
     },
     "metadata": {},
     "output_type": "display_data"
    },
    {
     "data": {
      "application/vnd.jupyter.widget-view+json": {
       "model_id": "c3c30bba21f7448fa10b0ba21fccef78",
       "version_major": 2,
       "version_minor": 0
      },
      "text/plain": [
       "(…)28ba968ef928103d92f95afc487e68/README.md:   0%|          | 0.00/10.3k [00:00<?, ?B/s]"
      ]
     },
     "metadata": {},
     "output_type": "display_data"
    },
    {
     "data": {
      "application/vnd.jupyter.widget-view+json": {
       "model_id": "f7b7d0a6c366489aa5eaca9fd028f50d",
       "version_major": 2,
       "version_minor": 0
      },
      "text/plain": [
       "(…)ba968ef928103d92f95afc487e68/config.json:   0%|          | 0.00/653 [00:00<?, ?B/s]"
      ]
     },
     "metadata": {},
     "output_type": "display_data"
    },
    {
     "data": {
      "application/vnd.jupyter.widget-view+json": {
       "model_id": "1e5f1d73af7541c9bbfbcd1bdd12c7d2",
       "version_major": 2,
       "version_minor": 0
      },
      "text/plain": [
       "(…)487e68/config_sentence_transformers.json:   0%|          | 0.00/116 [00:00<?, ?B/s]"
      ]
     },
     "metadata": {},
     "output_type": "display_data"
    },
    {
     "data": {
      "application/vnd.jupyter.widget-view+json": {
       "model_id": "890b8985ca3e4663ab89c4d1accb47ae",
       "version_major": 2,
       "version_minor": 0
      },
      "text/plain": [
       "(…)ef928103d92f95afc487e68/data_config.json:   0%|          | 0.00/15.7k [00:00<?, ?B/s]"
      ]
     },
     "metadata": {},
     "output_type": "display_data"
    },
    {
     "data": {
      "application/vnd.jupyter.widget-view+json": {
       "model_id": "a2a3200357ab45deb3a29f2085503509",
       "version_major": 2,
       "version_minor": 0
      },
      "text/plain": [
       "(…)8ba968ef928103d92f95afc487e68/merges.txt:   0%|          | 0.00/456k [00:00<?, ?B/s]"
      ]
     },
     "metadata": {},
     "output_type": "display_data"
    },
    {
     "data": {
      "application/vnd.jupyter.widget-view+json": {
       "model_id": "85cee03441fc4c51b7197dc032dc95c1",
       "version_major": 2,
       "version_minor": 0
      },
      "text/plain": [
       "pytorch_model.bin:   0%|          | 0.00/329M [00:00<?, ?B/s]"
      ]
     },
     "metadata": {},
     "output_type": "display_data"
    },
    {
     "data": {
      "application/vnd.jupyter.widget-view+json": {
       "model_id": "9a31301ecdf7416f99473fe06b523a67",
       "version_major": 2,
       "version_minor": 0
      },
      "text/plain": [
       "(…)92f95afc487e68/sentence_bert_config.json:   0%|          | 0.00/53.0 [00:00<?, ?B/s]"
      ]
     },
     "metadata": {},
     "output_type": "display_data"
    },
    {
     "data": {
      "application/vnd.jupyter.widget-view+json": {
       "model_id": "687c5466f12c4a0d91b6cdbdabe089b5",
       "version_major": 2,
       "version_minor": 0
      },
      "text/plain": [
       "(…)3d92f95afc487e68/special_tokens_map.json:   0%|          | 0.00/239 [00:00<?, ?B/s]"
      ]
     },
     "metadata": {},
     "output_type": "display_data"
    },
    {
     "data": {
      "application/vnd.jupyter.widget-view+json": {
       "model_id": "e399bf668567409ca2ad6673bd196e21",
       "version_major": 2,
       "version_minor": 0
      },
      "text/plain": [
       "(…)68ef928103d92f95afc487e68/tokenizer.json:   0%|          | 0.00/1.36M [00:00<?, ?B/s]"
      ]
     },
     "metadata": {},
     "output_type": "display_data"
    },
    {
     "data": {
      "application/vnd.jupyter.widget-view+json": {
       "model_id": "1a0bac314b45431f9ec90c2f30f7ac56",
       "version_major": 2,
       "version_minor": 0
      },
      "text/plain": [
       "(…)103d92f95afc487e68/tokenizer_config.json:   0%|          | 0.00/333 [00:00<?, ?B/s]"
      ]
     },
     "metadata": {},
     "output_type": "display_data"
    },
    {
     "data": {
      "application/vnd.jupyter.widget-view+json": {
       "model_id": "69a4f453d0dc41fc98804b9a894f303a",
       "version_major": 2,
       "version_minor": 0
      },
      "text/plain": [
       "(…)8ef928103d92f95afc487e68/train_script.py:   0%|          | 0.00/13.1k [00:00<?, ?B/s]"
      ]
     },
     "metadata": {},
     "output_type": "display_data"
    },
    {
     "data": {
      "application/vnd.jupyter.widget-view+json": {
       "model_id": "8502767281ae4f8781c0fd1606dff959",
       "version_major": 2,
       "version_minor": 0
      },
      "text/plain": [
       "(…)8ba968ef928103d92f95afc487e68/vocab.json:   0%|          | 0.00/798k [00:00<?, ?B/s]"
      ]
     },
     "metadata": {},
     "output_type": "display_data"
    },
    {
     "data": {
      "application/vnd.jupyter.widget-view+json": {
       "model_id": "92cd05973bff4a27864536d6d3c25886",
       "version_major": 2,
       "version_minor": 0
      },
      "text/plain": [
       "(…)a968ef928103d92f95afc487e68/modules.json:   0%|          | 0.00/349 [00:00<?, ?B/s]"
      ]
     },
     "metadata": {},
     "output_type": "display_data"
    }
   ],
   "source": [
    "sentence_model = SentenceTransformer('sentence-transformers/all-distilroberta-v1')"
   ]
  },
  {
   "cell_type": "code",
   "execution_count": 6,
   "metadata": {
    "id": "YjWG2l73O5MB"
   },
   "outputs": [],
   "source": [
    "def cosine(one, two):\n",
    "    return np.dot(one,two)/(sqrt(np.dot(one,one)) * sqrt(np.dot(two,two)))"
   ]
  },
  {
   "cell_type": "code",
   "execution_count": 18,
   "metadata": {
    "id": "_wi9-2aAay34"
   },
   "outputs": [],
   "source": [
    "def run_all(data, model, num_clusters=10):\n",
    "\n",
    "    X=[]\n",
    "\n",
    "    # Get sentence embeddings for each doc\n",
    "    \n",
    "    for doc in data:\n",
    "        embedding=model.encode(doc)\n",
    "        X.append(embedding)\n",
    "\n",
    "    X=np.array(X)\n",
    "\n",
    "    # Run K-means\n",
    "    kmeans = KMeans(n_clusters=num_clusters, random_state=0).fit(X)\n",
    "\n",
    "    # For each cluster, print out the n documents closest to the cluster center\n",
    "    clusters={}\n",
    "    for idx, label in enumerate(kmeans.labels_):\n",
    "        if label not in clusters:\n",
    "            clusters[label]=[]\n",
    "        clusters[label].append((idx, data[idx][1]))\n",
    "\n",
    "    for label in clusters:\n",
    "        sims={}\n",
    "        cluster_center=kmeans.cluster_centers_[label]\n",
    "        for idx, doc in clusters[label]:\n",
    "            sim=cosine(cluster_center, X[idx])\n",
    "            sims[idx]=sim\n",
    "        for k, v in sorted(sims.items(), key=lambda item: item[1], reverse=True)[:5]:\n",
    "            # print(k,\"%.3f\" % v, data[k][1])\n",
    "            if len(data[k].split()) < 20:\n",
    "                print(k,\"%.3f\" % v, data[k])\n",
    "            else:\n",
    "                print(k,\"%.3f\" % v, data[k][:200]+'...')\n",
    "\n",
    "        print()\n"
   ]
  },
  {
   "cell_type": "markdown",
   "metadata": {
    "id": "L_hOcnwzVgV9"
   },
   "source": [
    "# News titles"
   ]
  },
  {
   "cell_type": "code",
   "execution_count": 19,
   "metadata": {
    "id": "OrddyPw1bHdG"
   },
   "outputs": [
    {
     "name": "stderr",
     "output_type": "stream",
     "text": [
      "/Users/zhounanlin/anaconda3/envs/anlp/lib/python3.11/site-packages/sklearn/cluster/_kmeans.py:1412: FutureWarning: The default value of `n_init` will change from 10 to 'auto' in 1.4. Set the value of `n_init` explicitly to suppress the warning\n",
      "  super()._check_params_vs_input(X, default_n_init=10)\n"
     ]
    },
    {
     "name": "stdout",
     "output_type": "stream",
     "text": [
      "29 0.845 Israel intensifies war in Gaza with troops on the ground\n",
      "57 0.840 Israel conducts 'targeted raid' inside Gaza in 'next step of combat'\n",
      "38 0.835 Dramatic increase in Israeli bombardment of Gaza; escalation may ...\n",
      "52 0.826 Israel conducts new raids inside Gaza as humanitarian crisis grows\n",
      "216 0.822 Israeli forces attack Gaza's main city from two directions\n",
      "\n",
      "940 0.844 Israel and Hamas at war: Latest news\n",
      "1217 0.807 Analysis-In striking Israel, Hamas also took aim at Middle East security realignment\n",
      "1054 0.806 Israel, Hamas at war: Live updates\n",
      "121 0.803 Israel, Hamas terrorists and the reoccurring battles around the Gaza Strip\n",
      "73 0.801 Israel-Hamas war: images of Gaza devastation, newly released ...\n",
      "\n",
      "930 0.821 UPDATE 1-UN aid chief: situation is Gaza 'fast becoming untenable'\n",
      "536 0.813 UPDATE 1-New Israeli warning to Gaza residents as first aid trickles in\n",
      "206 0.802 UN refugee agency: Gaza becoming a 'hellhole' on the 'brink of collapse'\n",
      "269 0.796 Britain, France stress need to get aid into Gaza\n",
      "93 0.795 First round of humanitarian aid reaches Gaza\n",
      "\n",
      "533 0.758 UPDATE 2-US sees threat to US troops in Middle East, risk of escalation\n",
      "544 0.757 UPDATE 1-U.S. sending additional air defense systems to Middle East - Pentagon\n",
      "338 0.733 UPDATE 2-Biden warns Iran against targeting US troops in Middle East\n",
      "486 0.728 UPDATE 1-No direct Iran order for proxies to attack US troops, Pentagon says\n",
      "434 0.705 UPDATE 4-Blinken tells UN: US does not want war with Iran but will defend itself\n",
      "\n",
      "71 0.812 Biden administration pushes for a humanitarian 'pause' in Israel's ...\n",
      "675 0.811 Biden vows aid for Gaza, Israel as protests rock Middle East\n",
      "83 0.799 Biden administration reportedly advised Israel to delay potential ...\n",
      "135 0.796 Biden trip ends with promise of humanitarian aid to Gaza, backs Israel over hospital blast\n",
      "389 0.788 UPDATE 6-Biden calls for 'path toward peace' once Israel-Gaza crisis is resolved\n",
      "\n",
      "1029 0.736 UPDATE 1-No U.S. conditions on security assistance to Israel, Austin says\n",
      "406 0.711 UPDATE 2-Israel agrees to U.S. request to delay Gaza invasion- WSJ\n",
      "1199 0.706 Israel flashes geopolitical warning at shaky time\n",
      "381 0.706 Analysis-War clouds Israel's interest rate outlook\n",
      "982 0.699 UPDATE 2-U.S. ready to send more military aid to Israel, says Austin\n",
      "\n",
      "1204 0.813 Middle East conflict adds new risks to global economic outlook\n",
      "1205 0.813 Middle East conflict adds new risks to global economic outlook\n",
      "855 0.736 Marketmind: MidEast tension keeps markets on edge\n",
      "286 0.733 UPDATE 1-Investors on edge as Middle East conflict intensifies\n",
      "876 0.732 UPDATE 2-Global markets brace for fallout as Middle East tensions rise\n",
      "\n",
      "769 0.850 UPDATE 3-Lebanon-Israel border clashes escalate, 5 Hezbollah fighters killed\n",
      "1089 0.822 Lebanon's Hezbollah on war footing but moves carefully as conflict widens\n",
      "1101 0.808 UPDATE 3-Israeli shelling hits south Lebanon after Hezbollah rocket fire\n",
      "768 0.803 Lebanon-Israel border clashes escalate, 5 Hezbollah fighters killed\n",
      "547 0.798 UPDATE 4-Israel-Lebanon violence flares; six Hezbollah fighters killed\n",
      "\n",
      "1147 0.825 GLOBAL-MARKETS-Oil, gold jump on Middle East conflict; US stocks end higher\n",
      "1159 0.821 GLOBAL-MARKETS-Oil, gold jump on Middle East conflict; emerging market stocks down\n",
      "1171 0.811 GLOBAL-MARKETS-Oil, gold jump, stocks slip on Middle East conflict\n",
      "1146 0.763 Oil, gold jump on Middle East conflict; US stocks end higher\n",
      "334 0.742 PRECIOUS-Gold range-bound as traders focus on Middle East conflict, US rate scenario\n",
      "\n",
      "359 0.726 GLOBAL MARKETS-Stocks struggle as Treasury yields linger near 5% after strong U.S. growth data\n",
      "1091 0.711 GLOBAL MARKETS-Global stocks tick higher, bond yields drop ahead of Fed minutes\n",
      "823 0.709 GLOBAL MARKETS-Wall Street jumps, Treasury yields gain as high-profile earnings and data loom\n",
      "578 0.700 GLOBAL MARKETS-Wall Street dips as benchmark US bond yields breach 5%\n",
      "591 0.700 GLOBAL MARKETS-Wall Street dips as benchmark US bond yields breach 5%\n",
      "\n"
     ]
    }
   ],
   "source": [
    "run_all(list(stacked_news_df['title']), sentence_model, num_clusters=10)"
   ]
  },
  {
   "cell_type": "markdown",
   "metadata": {},
   "source": [
    "# Instagram Captions"
   ]
  },
  {
   "cell_type": "code",
   "execution_count": 20,
   "metadata": {
    "id": "2dzUxKcPWHyb",
    "scrolled": true
   },
   "outputs": [
    {
     "name": "stderr",
     "output_type": "stream",
     "text": [
      "/Users/zhounanlin/anaconda3/envs/anlp/lib/python3.11/site-packages/sklearn/cluster/_kmeans.py:1412: FutureWarning: The default value of `n_init` will change from 10 to 'auto' in 1.4. Set the value of `n_init` explicitly to suppress the warning\n",
      "  super()._check_params_vs_input(X, default_n_init=10)\n"
     ]
    },
    {
     "name": "stdout",
     "output_type": "stream",
     "text": [
      "1967 0.580 🐩✨Gavino Garay takes us inside the Humane Rescue Alliance’s 36th annual ‘Bark Ball’ in Washington, D.C., where the cause goes beyond the glitz and glam.\n",
      " \n",
      "#Reuters #video #news #BarkBall #HumaneRescue...\n",
      "1689 0.546 People have splurged on their cats and dogs for ages, but now the pet high life is trickling down to tinier creatures.⁠\n",
      "⁠\n",
      "Small animal lovers say it’s about time.⁠\n",
      "⁠\n",
      "At Norm’s Piggy Pen in Rockford, I...\n",
      "1791 0.534 The steely gaze of this endangered tigress has won the 2023 Mangrove Photography Awards. 🐯\n",
      "\n",
      "Soham Bhattacharyya captured the tigress peering at him in the Sundarbans Biosphere Reserve, India. \n",
      "\n",
      "\"The i...\n",
      "152 0.533 NEW AND IMPROVED: Customers are lovin' the latest rebrand. How the beloved item became a billion-dollar brand at the link in bio....\n",
      "2054 0.527 What made our list of the Best Inventions of 2023?\n",
      "\n",
      "Moonwalkers, battery-­powered wheeled shoes that allow you to walk normally (not skate), just faster and more easily. ChefDoodler's pen for easy cak...\n",
      "\n",
      "2709 0.893 Israel's recent air attacks on #Gaza have resulted in the displacement of hundreds of thousands of Palestinians.⁠\n",
      ".⁠\n",
      "The bombings have been described as the heaviest in recent memory, with over 1,200 ...\n",
      "2658 0.892 ⁠Amid the devastating numbers of Palestinian deaths and injuries in #Gaza, at least 20 families have been wiped out, erasing their presence from Gaza's society.⁠\n",
      ".⁠\n",
      "Entire neighborhoods have been redu...\n",
      "2400 0.892 The #Gaza Strip, home to 2.3 million people, has experienced widespread destruction due to Israeli military attacks.⁠\n",
      ".⁠\n",
      "Satellite imagery and photographs show that entire neighborhoods, hospitals, sc...\n",
      "2609 0.888 Some #Gaza residents are returning home to Gaza City after evacuating due to Israeli military orders.⁠\n",
      ".⁠\n",
      "The situation is dire, with limited water supply, only one hour of #electricity per day, and a...\n",
      "2358 0.877 Residents in #Gaza have flocked to hospitals and United Nations schools for safety, hoping that Israel will abide by international law and not attack those coordinates.⁠\n",
      ".⁠\n",
      "However, places of shelter ...\n",
      "\n",
      "1699 0.661 Ecuadoreans and foreigners alike have had to dramatically alter their way of life as a country that had been known for its natural beauty and relative safety quickly turned into one of the world’s mos...\n",
      "2036 0.630 Renters are in revolt, and this tenant union plans to get them organized. Over the last four years, KC Tenants and their political arm, KC Tenants Power, have blocked thousands of evictions in Kansas ...\n",
      "1700 0.612 Consumers should be spending less by now.⁠\n",
      "⁠\n",
      "Interest rates are up. Inflation remains high. Pandemic savings have shrunk. And the labor market is cooling.⁠\n",
      "⁠\n",
      "Yet household spending, the primary driver...\n",
      "1710 0.611 There are constants to life in the nation’s capital: sweltering summers, political dysfunction and, for much of the last 50 years, giant pandas.⁠\n",
      "⁠\n",
      "Later this year, though, the three pandas living in ...\n",
      "1586 0.609 The victimization of another member of Congress by the District’s crime wave shows that even high-profile residents of the nation’s capital can’t avoid the violence and armed stickups being carried ou...\n",
      "\n",
      "1711 0.674 Amy Schneider knew she was destined to be a trivia champion in the eighth grade, when her classmates voted her “most likely to appear on ‘Jeopardy!’” Almost 30 years later, in 2021, there she was, win...\n",
      "417 0.672 OOPS!...I DID IT AGAIN: The star has a message for fans after bombshell excerpts from her memoir caused a media frenzy. She shares new thoughts about moving forward at the link in bio....\n",
      "3228 0.661 \"In the summer of 2022, my husband Chuck and I sent Henry, our 18-year-old son, off to college,\" writes HuffPost guest writer Elizabeth Kopple. \"He’d overcome so many challenges to get there: attentio...\n",
      "487 0.634 BARING IT ALL: The actress is opening up at the link in bio.\n",
      "1240 0.630 @queenlatifah is often celebrated for her pioneering achievements in hip-hop: She’s the first solo female rapper to have a gold album and, later this year, she will become the first woman rapper to re...\n",
      "\n",
      "296 0.719 ‘ARMED AND DANGEROUS’: An urgent manhunt is underway for a person of interest in a mass shooting that killed at least 22 people. Link in bio for the latest....\n",
      "217 0.719 HALLOWEEN HORROR: Authorities say \"hundreds of innocent people\" became involved in the deadly fight between two groups. Link in bio....\n",
      "170 0.681 FOUND DEAD: Emergency responders detail the tragic scene at the link in bio.\n",
      "291 0.681 MAINE MANHUNT: At least 30 people were also injured. Breaking details at the link in bio.\n",
      "2913 0.660 #Gunshots have been heard following #explosions near #Turkey’s parliament building in the capital, #Ankara. The interior minister says there were two attackers, one of whom was a suicide bomber. Al Ja...\n",
      "\n",
      "2725 0.896 Israel continues to bombard the #Gaza Strip for the sixth day, with the Palestinian enclave facing a growing humanitarian crisis.⁠\n",
      ".⁠\n",
      "The #UN has reported that 338,934 Palestinians have been displaced...\n",
      "2822 0.891 #Israel has launched multiple air raids on the besieged Gaza Strip after the Palestinian armed group #Hamas launched an unprecedented land and air military operation against Israel.⁠\n",
      ".⁠\n",
      "Health officia...\n",
      "3042 0.890 “There’s more bombs than we have ever seen, many people have been killed and wounded, but there’s no way for families to call ambulances.\"⁠\n",
      "⁠\n",
      "The Israel Defense Forces (IDF) entered the Gaza Strip ove...\n",
      "2818 0.883 At least 232 people have been killed and 1,600 wounded in the #Palestinian enclave of #Gaza during #Israel’s retaliation after a deadly multi-pronged attack by #Hamas forces into Israel, the health mi...\n",
      "2795 0.882 Gun battles continue between #Hamas fighters and Israeli forces in southern Israel.⁠\n",
      ".⁠\n",
      "Hamas claims to be holding over 100 Israelis captive in Gaza, including senior officers.⁠\n",
      ".⁠\n",
      "Israel's military s...\n",
      "\n",
      "1415 0.771 How did we get here? Washington Times’ Tim Constantine and ForAmerica’s David Bozell look at the path to naming Rep. Mike Johnson of Louisiana Speaker of the House. After three weeks of infighting and...\n",
      "2877 0.764 Republican House Speaker Kevin McCarthy has been removed from his position by the United States House of Representatives.⁠\n",
      ".⁠\n",
      "The vote, which was 216-210, is the first time in #US history that the Hou...\n",
      "824 0.762 TRUMP CARD: GOP lawmakers are floating an unlikely nominee for House speaker after Kevin McCarthy was ousted. Why some say he will \"make the House great again\" at the link in bio....\n",
      "1374 0.757 On Tuesday, the House voted to oust Kevin McCarthy from the speakership, a move without precedent in modern history that left the chamber without a leader and plunged it into chaos.\n",
      "\n",
      "Democrats joined ...\n",
      "2113 0.755 Watch the House of Representatives vote to oust Kevin McCarthy as House Speaker\n",
      "\n",
      "631 0.793 'HAMAS IS ISIS': Standing united in Israel, Blinken and Netanyahu confront the world after Hamas terror massacre. Link in bio....\n",
      "682 0.771 'HORROR STORIES': Israel Ambassador compares scenes of Hamas attack to genocide of European Jews during World War II. Link in bio....\n",
      "259 0.771 CUT SHORT: The spokesman for the terrorist organization snapped at the reporter after being confronted by Hamas' atrocities against civilians. Watch the moment at the link in bio....\n",
      "702 0.770 'WE HAVE TO GO IN': Read the Israeli prime minister's message to the president after deadly strikes by Hamas at the link in bio....\n",
      "364 0.768 DEATH SQUADS: Israel releases unedited video of Hamas terror attack to counter 'Holocaust denial-like phenomenon.'\n",
      "\n",
      "187 0.717 LONE STAR STAND: The Biden administration is taking a blow after federal officials were accused of cutting razor wire to let 300 migrants cross the Southern border illegally. Everything to know at the...\n",
      "1536 0.707 “Joe Biden is trying to change the news cycle while Hamas terrorists commit atrocities in Israel, 22 Americans are dead, families of those kidnapped are pleading for help, and Iran is pocketing $6 bil...\n",
      "687 0.694 MCCARTHY SPEAKS OUT: The former House speaker slams the Biden administration’s stance on Iran at the link in bio.\n",
      "580 0.693 ‘MAKES NO SENSE’: The former Trump administration official called out President Joe Biden for ruling out sending special forces to rescue kidnapped Americans. Details at the link in bio....\n",
      "294 0.688 'INVASION': GOP senator demands Biden admin brief Congress on terror watchlist border encounters. Link in bio.\n",
      "\n",
      "2678 0.866 Al Jazeera’s @Youmna_ElSid captures the extent of devastation in besieged #Gaza. #Israel_Gaza_war\n",
      "2500 0.856 From the streets to world leaders, there’s been widespread outrage over the deadly attack on the al-Ahli Hospital in Gaza.\n",
      ".\n",
      "And popular momentum is building around the world against Israel’s brutal s...\n",
      "2291 0.853 \"Every second there is bombing in Gaza. Stop this genocide against Gaza.\" This Palestinian paramedic explains the severity of the deadly bombings in #Gaza by #Israel. #Israel_Gaza_war...\n",
      "2253 0.850 #Israel has pounded the #Gaza Strip for a 22nd day in a row as the besieged Palestinian enclave faces a growing humanitarian catastrophe.⁠\n",
      ".⁠\n",
      "🔗Tap the link in our bio for more.⁠\n",
      ".⁠\n",
      "#Israel_Gaza_War...\n",
      "2785 0.846 Hundreds of Palestinians have been killed in #Gaza, including many #children, as Israeli air strikes cause widespread destruction to the city.⁣\n",
      ".⁣\n",
      "#Palestine #Hamas...\n",
      "\n"
     ]
    }
   ],
   "source": [
    "run_all(list(stacked_ins_df['caption']), sentence_model, num_clusters=10)"
   ]
  },
  {
   "cell_type": "code",
   "execution_count": null,
   "metadata": {},
   "outputs": [],
   "source": []
  }
 ],
 "metadata": {
  "accelerator": "GPU",
  "colab": {
   "gpuType": "T4",
   "provenance": []
  },
  "kernelspec": {
   "display_name": "Python 3 (ipykernel)",
   "language": "python",
   "name": "python3"
  },
  "language_info": {
   "codemirror_mode": {
    "name": "ipython",
    "version": 3
   },
   "file_extension": ".py",
   "mimetype": "text/x-python",
   "name": "python",
   "nbconvert_exporter": "python",
   "pygments_lexer": "ipython3",
   "version": "3.11.5"
  }
 },
 "nbformat": 4,
 "nbformat_minor": 1
}
